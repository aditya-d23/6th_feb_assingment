{
 "cells": [
  {
   "cell_type": "markdown",
   "id": "0427671e-96f6-4b8f-9934-529e48038b76",
   "metadata": {},
   "source": [
    "Q1. Create a function which will take a list as an argument and return the product of all the numbers \n",
    "after creating a flat list.\n",
    "\n",
    "Use the below-given list as an argument for your function.\n",
    "\n",
    "\n",
    "list1 = [1,2,3,4, [44,55,66, True], False, (34,56,78,89,34), {1,2,3,3,2,1}, {1:34, \"key2\": [55, 67, 78, 89], 4: (45, \n",
    "22, 61, 34)}, [56, 'data science'], 'Machine Learning']\n",
    "\n",
    "\n",
    "Note: you must extract numeric keys and values of the dictionary also."
   ]
  },
  {
   "cell_type": "code",
   "execution_count": 3,
   "id": "08067cf7-3e51-4bf1-83ee-c0710c72b954",
   "metadata": {},
   "outputs": [
    {
     "name": "stdout",
     "output_type": "stream",
     "text": [
      "[1, 2, 3, 4, 44, 55, 66, 34, 56, 78, 89, 34, 1, 2, 3, 1, 34, 55, 67, 78, 89, 4, 56]\n",
      "2013730282081706885067571200\n"
     ]
    }
   ],
   "source": [
    "A=[]\n",
    "list1 = [1,2,3,4, [44,55,66, True], False, (34,56,78,89,34), {1,2,3,3,2,1}, {1:34, \"key2\": [55, 67, 78, 89], 4: (45, 22, 61, 34)}, [56, 'data science'], 'Machine Learning']\n",
    "\n",
    "def sep(list1):\n",
    "    for each in list1:\n",
    "        if type(each)==int:\n",
    "            A.append(each)\n",
    "        elif type(each)==list:\n",
    "            for j in each:\n",
    "                if type(j)==int:\n",
    "                    A.append(j)\n",
    "        elif type(each)==tuple:\n",
    "            for j in each:\n",
    "                if type(j)==int:\n",
    "                    A.append(j)\n",
    "        elif type(each)==dict:\n",
    "            for key, value in each.items():\n",
    "                if type(key)==int and type(value)==int:\n",
    "                    A.append(key)\n",
    "                    A.append(value)\n",
    "                elif type(key)==int:\n",
    "                    A.append(key)\n",
    "                elif type(value)==list:\n",
    "                    for k in value:\n",
    "                        A.append(k)\n",
    "                elif type(value)==tuple:\n",
    "                    for l in value:\n",
    "                        A.append(l)\n",
    "        elif type(each)==int:\n",
    "            A.append(each)\n",
    "        elif type(each)==set:\n",
    "            m=list(each)\n",
    "            for x in m:\n",
    "                A.append(x)\n",
    "sep(list1)\n",
    "print(A)\n",
    "product=1\n",
    "for each in A:\n",
    "    product=product*each\n",
    "print(product)"
   ]
  },
  {
   "cell_type": "markdown",
   "id": "fb5f7c0c-bc82-46ad-9f14-9d5e144c98fc",
   "metadata": {},
   "source": [
    "Q2. Write a python program for encrypting a message sent to you by your friend. The logic of encryption \n",
    "should be such that, for a the output should be z. For b, the output should be y. For c, the output should \n",
    "be x respectively. Also, the whitespace should be replaced with a dollar sign. Keep the punctuation \n",
    "marks unchanged.\n",
    "\n",
    "\n",
    "Input Sentence: I want to become a Data Scientist.\n",
    "\n",
    "\n",
    "Encrypt the above input sentence using the program you just created.\n",
    "\n",
    "\n",
    "Note: Convert the given input sentence into lowercase before encrypting. The final output should be \n",
    "lowercase."
   ]
  },
  {
   "cell_type": "code",
   "execution_count": 1,
   "id": "099276ba-6632-44de-8da1-3995ad21340f",
   "metadata": {},
   "outputs": [],
   "source": [
    "def encrypt(message):\n",
    "    # Create a dictionary to map each character to its corresponding encrypted character\n",
    "    mapping = {\n",
    "        'a': 'z',\n",
    "        'b': 'y',\n",
    "        'c': 'x',\n",
    "        'd': 'w',\n",
    "        'e': 'v',\n",
    "        'f': 'u',\n",
    "        'g': 't',\n",
    "        'h': 's',\n",
    "        'i': 'r',\n",
    "        'j': 'q',\n",
    "        'k': 'p',\n",
    "        'l': 'o',\n",
    "        'm': 'n',\n",
    "        'n': 'm',\n",
    "        'o': 'l',\n",
    "        'p': 'k',\n",
    "        'q': 'j',\n",
    "        'r': 'i',\n",
    "        's': 'h',\n",
    "        't': 'g',\n",
    "        'u': 'f',\n",
    "        'v': 'e',\n",
    "        'w': 'd',\n",
    "        'x': 'c',\n",
    "        'y': 'b',\n",
    "        'z': 'a',\n",
    "        ' ': '$'\n",
    "    }\n",
    "\n",
    "    # Convert the message to lowercase\n",
    "    message = message.lower()\n",
    "\n",
    "    # Encrypt the message by replacing each character with its corresponding encrypted character\n",
    "    encrypted_message = ''\n",
    "    for char in message:\n",
    "        if char in mapping:\n",
    "            encrypted_message += mapping[char]\n",
    "        else:\n",
    "            encrypted_message += char\n",
    "\n",
    "    return encrypted_message\n",
    "\n",
    "    "
   ]
  },
  {
   "cell_type": "code",
   "execution_count": 2,
   "id": "ffc165c9-4856-4fec-a260-0e7aac06dd5a",
   "metadata": {},
   "outputs": [
    {
     "name": "stdout",
     "output_type": "stream",
     "text": [
      "r$dzmg$gl$yvxlnv$z$wzgz$hxrvmgrhg.\n"
     ]
    }
   ],
   "source": [
    "message = \"I want to become a Data Scientist.\"\n",
    "encrypted_message = encrypt(message)\n",
    "print(encrypted_message)\n"
   ]
  }
 ],
 "metadata": {
  "kernelspec": {
   "display_name": "Python 3 (ipykernel)",
   "language": "python",
   "name": "python3"
  },
  "language_info": {
   "codemirror_mode": {
    "name": "ipython",
    "version": 3
   },
   "file_extension": ".py",
   "mimetype": "text/x-python",
   "name": "python",
   "nbconvert_exporter": "python",
   "pygments_lexer": "ipython3",
   "version": "3.10.6"
  }
 },
 "nbformat": 4,
 "nbformat_minor": 5
}
